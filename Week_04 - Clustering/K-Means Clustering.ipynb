{
  "nbformat": 4,
  "nbformat_minor": 0,
  "metadata": {
    "colab": {
      "name": "K-Means Clustering.ipynb",
      "provenance": [],
      "include_colab_link": true
    },
    "kernelspec": {
      "display_name": "Python [default]",
      "language": "python",
      "name": "python3"
    }
  },
  "cells": [
    {
      "cell_type": "markdown",
      "metadata": {
        "id": "view-in-github",
        "colab_type": "text"
      },
      "source": [
        "<a href=\"https://colab.research.google.com/github/saeid-uot/3253-Machine-Learning/blob/main/Week_04%20-%20Clustering/K-Means%20Clustering.ipynb\" target=\"_parent\"><img src=\"https://colab.research.google.com/assets/colab-badge.svg\" alt=\"Open In Colab\"/></a>"
      ]
    },
    {
      "cell_type": "markdown",
      "metadata": {
        "id": "ufV-7aTvMn_S"
      },
      "source": [
        "# Objectives:\n",
        "\n",
        "In this notebook,\n",
        "\n",
        "1. We create a synthetic dataset by\n",
        "* selecting few random centeroids\n",
        "* create n random datapoints around each centeriod\n",
        "2.  plot the clusters created as a results of this synthetic data\n",
        "3. Apply kmeans to see if the algorithm can mimic the clusters the way we did!\n",
        "4. You play abit with hyperparameters and see it for yourself"
      ]
    },
    {
      "cell_type": "code",
      "metadata": {
        "id": "SIEGAnC_SrLl"
      },
      "source": [
        "import numpy as np\n",
        "import matplotlib.pyplot as plt\n",
        "import random\n",
        "from sklearn.metrics import silhouette_score\n",
        "from sklearn.cluster import AgglomerativeClustering\n",
        "random.seed(42)"
      ],
      "execution_count": 1,
      "outputs": []
    },
    {
      "cell_type": "markdown",
      "metadata": {
        "id": "bRMkWrlpSrLp"
      },
      "source": [
        "## K-MEANS"
      ]
    },
    {
      "cell_type": "markdown",
      "metadata": {
        "id": "39HSrcPjSrLq"
      },
      "source": [
        "### Generating clusters to show how K-Means reproduce them"
      ]
    },
    {
      "cell_type": "markdown",
      "metadata": {
        "id": "MLV-Zgp1SrLq"
      },
      "source": [
        "#### Generating centers (this is artificial data just for demonstration)"
      ]
    },
    {
      "cell_type": "code",
      "metadata": {
        "id": "7r7ITDaVSrLr",
        "colab": {
          "base_uri": "https://localhost:8080/",
          "height": 552
        },
        "outputId": "52dd3a52-d8b3-42a7-cac5-86a8dbfbfbb9"
      },
      "source": [
        "trueK = 7 # Desired number of clusters to generate\n",
        "# colors = 'bgrykcm' # the letters are defining colors for each K. For instance, b is blue and g is gray.\n",
        "colors = ['b', 'g', 'r', 'y', 'k', 'c', 'm']\n",
        "dim = 2 # dimension of feature space\n",
        "n = 250 # points per cluster\n",
        "\n",
        "trueCentroids = np.random.rand(trueK,dim) # generating centroids at random\n",
        "print(trueCentroids)\n",
        "if dim==2:\n",
        "    plt.scatter(trueCentroids[:,0],trueCentroids[:,1], color=colors)\n",
        "    plt.xlim(-0.1,1.1)\n",
        "    plt.ylim(-0.1,1.1)\n",
        "    plt.show()"
      ],
      "execution_count": 4,
      "outputs": [
        {
          "output_type": "stream",
          "name": "stdout",
          "text": [
            "[[0.02207531 0.23660662]\n",
            " [0.54749105 0.19817418]\n",
            " [0.22435706 0.38095713]\n",
            " [0.24296033 0.54183477]\n",
            " [0.39696635 0.36617854]\n",
            " [0.48035204 0.59272329]\n",
            " [0.88629025 0.16573716]]\n"
          ]
        },
        {
          "output_type": "display_data",
          "data": {
            "text/plain": [
              "<Figure size 640x480 with 1 Axes>"
            ],
            "image/png": "[encoded data removed]"
          },
          "metadata": {}
        }
      ]
    },
    {
      "cell_type": "markdown",
      "metadata": {
        "id": "J3zCnoRhSrLv"
      },
      "source": [
        "#### Generating synthetic datapoints around each center\n",
        "#### Using multivariate normal distribution with a randomly generated covariance matrix"
      ]
    },
    {
      "cell_type": "code",
      "metadata": {
        "id": "RJ3ReO69SrLw"
      },
      "source": [
        "sigma_xx = 0.001 # factor for variance - decides on how far can each new point be from the mean  (try 0.01)\n",
        "sigma_xy = 0.001 # factor for covariance - decides on how dar x and y can fall apart try(0.001)\n",
        "XasList = [] # storing the points around each center, as a list of arrays (one array per center)\n",
        "X = trueCentroids # The actual centroids, to which the generated points will be added\n",
        "\n",
        "# loop through the centroids\n",
        "for c in trueCentroids:\n",
        "    # data generated for each centroid:\n",
        "    X_c = np.random.multivariate_normal(c,np.array([[sigma_xx*np.random.rand(),  sigma_xy*(2*np.random.rand()-1)],\n",
        "                                                    [sigma_xy*(2*np.random.rand()-1), sigma_xx*np.random.rand()]]), n)\n",
        "    #print(X_c)\n",
        "    XasList.append(X_c) # list of arrays\n",
        "    X = np.append(X,X_c, axis=0) # single array\n",
        "\n",
        "np.random.shuffle(X) # shuffle the array"
      ],
      "execution_count": null,
      "outputs": []
    },
    {
      "cell_type": "markdown",
      "metadata": {
        "id": "6uboj2WQSrLy"
      },
      "source": [
        "#### Computing clusters"
      ]
    },
    {
      "cell_type": "markdown",
      "metadata": {
        "id": "JUn1DNu0NbSV"
      },
      "source": [
        "#Plot the points"
      ]
    },
    {
      "cell_type": "code",
      "metadata": {
        "id": "_evpaM26NeUE"
      },
      "source": [
        "plt.figure(figsize=(10,5))\n",
        "#show the artificially generated data\n",
        "plt.subplot(1,2,1)\n",
        "for J in range(trueK):\n",
        "    X_c = XasList[J]\n",
        "    plt.scatter(X_c[:, 0], X_c[:, 1], c=colors[J], s=10)\n",
        "    plt.title(\"Original clusters\")\n",
        "    plt.xlim(-0.2,1.2)\n",
        "    plt.ylim(-0.2,1.2)\n",
        "    plt.axis('equal')"
      ],
      "execution_count": null,
      "outputs": []
    },
    {
      "cell_type": "code",
      "metadata": {
        "id": "TS46SRRYSrLz"
      },
      "source": [
        "#Write a code to import kmean library from SKLearn\n",
        "from sklearn.cluster import KMeans\n",
        "\n",
        "#fit the KMeans model on X\n",
        "#n_cluster should be equal to trueK\n",
        "kmeans = KMeans(n_clusters=trueK, random_state=0).fit(X)  #what's n_clusters and why? fit what?\n"
      ],
      "execution_count": null,
      "outputs": []
    },
    {
      "cell_type": "markdown",
      "metadata": {
        "id": "Ol_Mo49VSrL1"
      },
      "source": [
        "#### Visualizing true vs computed clusters\n",
        "\n",
        "Note that the colors do not match because the labels chosen by the clustering algorithm do not need to match the artificial ones we started with."
      ]
    },
    {
      "cell_type": "code",
      "metadata": {
        "id": "slSF4hf2SrL2"
      },
      "source": [
        "plt.figure(figsize=(10,5))\n",
        "#plot the data points with colours differentiating the clusters they originally should belong to\n",
        "plt.subplot(1,2,1)\n",
        "for J in range(trueK):\n",
        "    X_c = XasList[J]\n",
        "    plt.scatter(X_c[:, 0], X_c[:, 1], c=colors[J], s=10)\n",
        "    plt.title(\"Original clusters\")\n",
        "    plt.xlim(-0.2,1.2)\n",
        "    plt.ylim(-0.2,1.2)\n",
        "    plt.axis('equal')\n",
        "\n",
        "#plot the data points with cluster colours showing how the clustering algorithm resolved them as different clusters\n",
        "plt.subplot(1,2,2)\n",
        "for J in range(trueK):\n",
        "    X_J = X[kmeans.labels_==J]\n",
        "    plt.title(\"Reconstructed clusters\")\n",
        "    plt.scatter(X_J[:, 0], X_J[:, 1], c=colors[J], s=10)\n",
        "    plt.xlim(-0.2,1.2)\n",
        "    plt.ylim(-0.2,1.2)\n",
        "    plt.axis('equal')\n",
        "plt.show()"
      ],
      "execution_count": null,
      "outputs": []
    },
    {
      "cell_type": "markdown",
      "metadata": {
        "id": "nnt5tDoiSrL4"
      },
      "source": [
        "### Measuring Clustering Performance"
      ]
    },
    {
      "cell_type": "markdown",
      "metadata": {
        "id": "LMImujinSrL5"
      },
      "source": [
        "#### A function that measures the _cost_ of a specific clustering is called _inertia_\n",
        "\n",
        "#### Inertia is computed as the sum of the square distances between each point and the center of the cluster to which the point is assigned.\n",
        "\n",
        "Inertia is one of the attributes of the learned model (below is redefined as getInertia, although not used)\n",
        "\n",
        "A complementary measure of performance is to look at what below is called inertia2, which is the sum of the squares distances between each point and the 2nd closest cluster\n",
        "\n",
        "A nice clustering solution should have small inertia, and large inertia2: that means:\n",
        "\n",
        "    - points are close to the center of their cluster\n",
        "    - points are far from the center of the other clusters (since they are far to the closest center of the other clusters)"
      ]
    },
    {
      "cell_type": "code",
      "metadata": {
        "id": "jKxBwV5fSrL6"
      },
      "source": [
        "def getInertia(X,kmeans):\n",
        "    ''' This function returns the exact same value as the attribute inertia_ of kmeans'''\n",
        "    inertia = 0\n",
        "    for J in range(len(X)):\n",
        "        inertia = inertia + np.linalg.norm(X[J] - kmeans.cluster_centers_[kmeans.labels_[J]])**2\n",
        "    return inertia"
      ],
      "execution_count": null,
      "outputs": []
    },
    {
      "cell_type": "code",
      "metadata": {
        "id": "50FtWs0tSrL9"
      },
      "source": [
        "def getInertia2(X,kmeans):\n",
        "    ''' This function is analogous to getInertia, but with respect to the 2nd closest center, rather than closest one'''\n",
        "    inertia2 = 0\n",
        "    for J in range(len(X)):\n",
        "        L = min(1,len(kmeans.cluster_centers_)-1) # this is just for the case where there is only 1 cluster at all\n",
        "        dist_to_center = sorted([np.linalg.norm(X[J] - z)**2 for z in kmeans.cluster_centers_])[L]\n",
        "        inertia2 = inertia2 + dist_to_center\n",
        "    return inertia2"
      ],
      "execution_count": null,
      "outputs": []
    },
    {
      "cell_type": "markdown",
      "metadata": {
        "id": "duX3Xc6qSrL_"
      },
      "source": [
        "In addition to _inertia_ we compute the ration between _interia_ and _inertia2_.\n",
        "\n",
        "Another performance measure is called _silhouette_:\n",
        "\n",
        "The silhouette $s(x)$ for a point $x$ is defined as:\n",
        "\n",
        "$$ s(x) = \\frac{b(x)-a(x)}{\\max\\{a(x),b(x)\\}} $$\n",
        "\n",
        "where\n",
        "\n",
        "- $a(x)$ is the average distance between $x$ and the points in the cluster $x$ belongs\n",
        "\n",
        "- $b(x)$ is the lowest average distance between $x$ and the points the clusters $x$ does not belong to\n",
        "\n",
        "$s(x)$ is a quantity in $[-1,1]$. The silhouette score is the average silhouette score among all the points: $\\frac{1}{|X|} \\sum_x s(x)$\n",
        "\n",
        "**- The bigger is the silhouette score the better. Large silhouette indicates that points in the cluster are very similar and points in different clusters are dissimilar.**"
      ]
    },
    {
      "cell_type": "markdown",
      "metadata": {
        "id": "QWkrKtUdSrMA"
      },
      "source": [
        "### Computing 3 performance measures for a range of values of $k$"
      ]
    },
    {
      "cell_type": "code",
      "metadata": {
        "id": "6vHxOIzNSrMB"
      },
      "source": [
        "inertias_1 = [] #empty list to store inertia 1\n",
        "inertias_2 = [] #empty list to store inertia 2\n",
        "silhouette_avgs = [] #empty list to store silhouette scores\n",
        "max_K = trueK  #loop through this many K values and store the performance metrics for each K\n",
        "for k in np.arange(1,max_K+1):\n",
        "    kmeans = KMeans(n_clusters=k, random_state=0).fit(X)\n",
        "    inertias_1 = inertias_1 + [kmeans.inertia_]\n",
        "    inertias_2 = inertias_2 + [getInertia2(X,kmeans)]\n",
        "    print(kmeans.inertia_, getInertia2(X,kmeans) ) #print inertia 1 and 2 for the current K\n",
        "\n",
        "    if k>1:\n",
        "        silhouette_avgs = silhouette_avgs + [silhouette_score(X, kmeans.labels_)]\n",
        "        print(\"silhouette_score: \",silhouette_score(X, kmeans.labels_)) #print silhouette score for the current K"
      ],
      "execution_count": null,
      "outputs": []
    },
    {
      "cell_type": "markdown",
      "metadata": {
        "id": "YTEIb2JESrMD"
      },
      "source": [
        "### Plotting performances"
      ]
    },
    {
      "cell_type": "code",
      "metadata": {
        "id": "OzCuEDfhSrMF"
      },
      "source": [
        "plt.figure(figsize=(20,5))\n",
        "\n",
        "plt.subplot(1,3,1)\n",
        "plt.title(\"Inertia_1: sum square distances to closest cluster\")\n",
        "plt.plot(np.arange(1,max_K+1),inertias_1)\n",
        "plt.xticks(np.arange(1,max_K+1))\n",
        "plt.xlabel('number of clusters (the smaller the better)')\n",
        "plt.grid()\n",
        "\n",
        "plt.subplot(1,3,2)\n",
        "plt.title(\"Ratio: Inertia_1 VS. sum square distances to 2nd closest cluster\")\n",
        "plt.plot(np.arange(1,max_K+1),np.array(inertias_1)/np.array(inertias_2))\n",
        "plt.xticks(np.arange(1,max_K+1))\n",
        "plt.xlabel('number of clusters (the smaller the better)')\n",
        "plt.grid()\n",
        "\n",
        "plt.subplot(1,3,3)\n",
        "plt.title(\"Average Silhouette\")\n",
        "plt.plot(np.arange(2,max_K+1), silhouette_avgs)\n",
        "plt.xticks(np.arange(2,max_K+1))\n",
        "plt.xlabel('number of clusters (the larger the better)')\n",
        "plt.grid()\n",
        "\n",
        "plt.show()"
      ],
      "execution_count": null,
      "outputs": []
    },
    {
      "cell_type": "markdown",
      "metadata": {
        "id": "2KTNNVVQSrMI"
      },
      "source": [
        "### Analyzing the plots to determine the optimal value of $k$\n",
        "\n",
        "In this case the data was created to have $k$ clusters, but in practice this is of course unknown, and one of the user's tasks is to determine the appropriate value of $k$.\n",
        "\n",
        "In the first case (looking at inertias) what we are looking for is an \"elbow\" in the graph. In this case, it is located around $k=4$. Notice that we do not choose the value of $k$ with the smallest value since the inertia keeps decreasing as $k$ increase. This is by construction of the quantity _inertia_.\n",
        "\n",
        "When looking at the ration between inertia_1 and inertia_2, one looks for a minimum value, which in this case corresponds with $k=4$ as well.\n",
        "\n",
        "The silhouette gives higher values for best clusterings, so what we look for is a maximum, which happens again at $k=4$.\n",
        "\n",
        "With real data (non-synthetic) it is trickier to find the best value of $k$ since it is not so obvious as in the example above. Often there are a few options that seem reasonable. Having these 3 differents approaches to determine a convenient value of $k$ should help narrowing down the options for $k$."
      ]
    },
    {
      "cell_type": "markdown",
      "metadata": {
        "id": "wXTUO7bqMBlF"
      },
      "source": [
        "# Your turn!\n",
        "Review the flow of coding for yourself. Do not focus on how we created synthetic data, rather focus on \"when the data is ready, what should be done\" and try to follow that process so you learn what you should do next time you want to build model.\n",
        "\n",
        "Next, go to kmeans section above and modify the code  with below parameters and check the outcome.\n",
        "\n",
        "1. trueK = 3 # Desired number of clusters\n",
        "2. colors = 'bgr'\n",
        "3. n = 10 and also try with n = 60\n",
        "4. Share your Inertia and inertia2 results with each other.\n"
      ]
    }
  ]
}